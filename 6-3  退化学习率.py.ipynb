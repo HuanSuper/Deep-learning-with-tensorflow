{
 "cells": [
  {
   "cell_type": "code",
   "execution_count": 2,
   "metadata": {
    "ExecuteTime": {
     "end_time": "2019-03-21T10:33:48.907186Z",
     "start_time": "2019-03-21T10:33:48.898186Z"
    }
   },
   "outputs": [
    {
     "data": {
      "text/plain": [
       "'\\ncreated on Mar 21 2019\\n\\n@author: Huan Zheng\\n'"
      ]
     },
     "execution_count": 2,
     "metadata": {},
     "output_type": "execute_result"
    }
   ],
   "source": [
    "\"\"\"\n",
    "created on Mar 21 2019\n",
    "\n",
    "@author: Huan Zheng\n",
    "\"\"\"\n",
    "# 退化学习率"
   ]
  },
  {
   "cell_type": "code",
   "execution_count": 4,
   "metadata": {
    "ExecuteTime": {
     "end_time": "2019-03-21T10:39:04.520238Z",
     "start_time": "2019-03-21T10:39:01.832084Z"
    }
   },
   "outputs": [
    {
     "name": "stdout",
     "output_type": "stream",
     "text": [
      "0.1\n",
      "1 0.1\n",
      "2 0.09791484\n",
      "3 0.09688862\n",
      "4 0.095873155\n",
      "5 0.094868325\n",
      "6 0.09387404\n",
      "7 0.092890166\n",
      "8 0.09191661\n",
      "9 0.09095325\n",
      "10 0.089999996\n",
      "11 0.08905673\n",
      "12 0.088123344\n",
      "13 0.08719975\n",
      "14 0.08628584\n",
      "15 0.0853815\n",
      "16 0.084486626\n",
      "17 0.08360115\n",
      "18 0.08272495\n",
      "19 0.08185792\n",
      "20 0.08099999\n"
     ]
    }
   ],
   "source": [
    "import tensorflow as tf\n",
    "\n",
    "global_step = tf.Variable(0, trainable=False)\n",
    "initial_lr = 0.1\n",
    "lr = tf.train.exponential_decay(initial_lr, global_step=global_step, decay_steps=10, decay_rate=0.9)\n",
    "opt = tf.train.GradientDescentOptimizer(lr)\n",
    "add_global = global_step.assign_add(1) # 定义一个op命令，令global_step加1完成计步\n",
    "with tf.Session() as sess:\n",
    "    tf.global_variables_initializer().run()\n",
    "    print(sess.run(lr))\n",
    "    for i in range(20):\n",
    "        g, rate = sess.run([add_global, lr])\n",
    "        print(g, rate)"
   ]
  },
  {
   "cell_type": "code",
   "execution_count": null,
   "metadata": {},
   "outputs": [],
   "source": []
  }
 ],
 "metadata": {
  "kernelspec": {
   "display_name": "Python 3",
   "language": "python",
   "name": "python3"
  },
  "language_info": {
   "codemirror_mode": {
    "name": "ipython",
    "version": 3
   },
   "file_extension": ".py",
   "mimetype": "text/x-python",
   "name": "python",
   "nbconvert_exporter": "python",
   "pygments_lexer": "ipython3",
   "version": "3.6.8"
  },
  "toc": {
   "base_numbering": 1,
   "nav_menu": {},
   "number_sections": true,
   "sideBar": true,
   "skip_h1_title": false,
   "title_cell": "Table of Contents",
   "title_sidebar": "Contents",
   "toc_cell": false,
   "toc_position": {},
   "toc_section_display": true,
   "toc_window_display": false
  },
  "varInspector": {
   "cols": {
    "lenName": 16,
    "lenType": 16,
    "lenVar": 40
   },
   "kernels_config": {
    "python": {
     "delete_cmd_postfix": "",
     "delete_cmd_prefix": "del ",
     "library": "var_list.py",
     "varRefreshCmd": "print(var_dic_list())"
    },
    "r": {
     "delete_cmd_postfix": ") ",
     "delete_cmd_prefix": "rm(",
     "library": "var_list.r",
     "varRefreshCmd": "cat(var_dic_list()) "
    }
   },
   "types_to_exclude": [
    "module",
    "function",
    "builtin_function_or_method",
    "instance",
    "_Feature"
   ],
   "window_display": false
  }
 },
 "nbformat": 4,
 "nbformat_minor": 2
}
