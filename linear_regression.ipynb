{
 "cells": [
  {
   "cell_type": "code",
   "execution_count": 1,
   "metadata": {
    "ExecuteTime": {
     "end_time": "2019-02-12T09:06:15.766290Z",
     "start_time": "2019-02-12T09:06:15.746289Z"
    }
   },
   "outputs": [
    {
     "data": {
      "text/plain": [
       "'\\nareated on 12 Feb 2019\\n\\n@author: Super Huan\\n'"
      ]
     },
     "execution_count": 1,
     "metadata": {},
     "output_type": "execute_result"
    }
   ],
   "source": [
    "\"\"\"\n",
    "areated on 12 Feb 2019\n",
    "\n",
    "@author: Super Huan\n",
    "\"\"\"\n",
    "# 深度学习框架Tensorflow"
   ]
  },
  {
   "cell_type": "code",
   "execution_count": 3,
   "metadata": {
    "ExecuteTime": {
     "end_time": "2019-02-12T09:13:09.930979Z",
     "start_time": "2019-02-12T09:13:09.006926Z"
    }
   },
   "outputs": [
    {
     "data": {
      "image/png": "[encoded data removed]",
      "text/plain": [
       "<Figure size 432x288 with 1 Axes>"
      ]
     },
     "metadata": {},
     "output_type": "display_data"
    }
   ],
   "source": [
    "import numpy as np\n",
    "import tensorflow as tf\n",
    "import matplotlib.pyplot as plt\n",
    "%matplotlib inline\n",
    "\n",
    "# 随机生成1000个点，围绕在y = 0.1x + 0.3 的直线附近\n",
    "num_points = 10000\n",
    "vectors_set = []\n",
    "for i in range(num_points):\n",
    "    x1 = np.random.normal(0.0, 0.55)\n",
    "    y1 = x1 * 0.1 + 0.3 + np.random.normal(0.0, 0.03)\n",
    "    vectors_set.append([x1, y1])\n",
    "\n",
    "# 生成一些样本\n",
    "x_data = [v[0] for v in vectors_set]\n",
    "y_data = [v[1] for v in vectors_set]\n",
    "\n",
    "plt.scatter(x_data, y_data, c='r')\n",
    "plt.show()"
   ]
  },
  {
   "cell_type": "code",
   "execution_count": 9,
   "metadata": {
    "ExecuteTime": {
     "end_time": "2019-02-12T09:27:21.605692Z",
     "start_time": "2019-02-12T09:27:21.180668Z"
    }
   },
   "outputs": [
    {
     "name": "stdout",
     "output_type": "stream",
     "text": [
      "W= [-0.02146387] b= [0.] loss= 0.09521509\n",
      "step  1\n",
      "W= [0.01504815] b= [0.29959148] loss= 0.00315022\n",
      "step  2\n",
      "W= [0.04112762] b= [0.29967317] loss= 0.0019967433\n",
      "step  3\n",
      "W= [0.05927701] b= [0.2997315] loss= 0.0014380984\n",
      "step  4\n",
      "W= [0.07190766] b= [0.29977208] loss= 0.0011675388\n",
      "step  5\n",
      "W= [0.08069766] b= [0.29980034] loss= 0.0010365032\n",
      "step  6\n",
      "W= [0.08681487] b= [0.29981998] loss= 0.00097304076\n",
      "step  7\n",
      "W= [0.09107199] b= [0.29983366] loss= 0.000942305\n",
      "step  8\n",
      "W= [0.09403463] b= [0.2998432] loss= 0.0009274193\n",
      "step  9\n",
      "W= [0.09609641] b= [0.2998498] loss= 0.00092020986\n",
      "step  10\n",
      "W= [0.09753126] b= [0.29985443] loss= 0.0009167183\n",
      "step  11\n",
      "W= [0.09852981] b= [0.29985762] loss= 0.0009150272\n",
      "step  12\n",
      "W= [0.09922473] b= [0.29985985] loss= 0.00091420824\n",
      "step  13\n",
      "W= [0.09970834] b= [0.29986143] loss= 0.0009138116\n",
      "step  14\n",
      "W= [0.1000449] b= [0.2998625] loss= 0.00091361953\n",
      "step  15\n",
      "W= [0.10027912] b= [0.29986325] loss= 0.00091352646\n",
      "step  16\n",
      "W= [0.10044213] b= [0.2998638] loss= 0.00091348134\n",
      "step  17\n",
      "W= [0.10055556] b= [0.29986414] loss= 0.0009134596\n",
      "step  18\n",
      "W= [0.10063451] b= [0.29986438] loss= 0.000913449\n",
      "step  19\n",
      "W= [0.10068945] b= [0.29986456] loss= 0.00091344386\n",
      "step  20\n",
      "W= [0.10072768] b= [0.29986468] loss= 0.00091344136\n"
     ]
    }
   ],
   "source": [
    "# 生成1为的W矩阵， 取值是[-1, 1]之间的随机数\n",
    "W = tf.Variable(tf.random_uniform([1], -1.0, 1.0), name='W')\n",
    "# 生成1为的b矩阵， 初始值是0\n",
    "b = tf.Variable(tf.zeros([1]), name='b')\n",
    "# 经过计算得出预估值y\n",
    "y = W * x_data + b\n",
    "\n",
    "# 以预估值y和实际值y_data之间的均方误差作为损失\n",
    "loss = tf.reduce_mean(tf.square(y - y_data), name='loss')\n",
    "# 采用梯度下降法优化参数\n",
    "optimizer = tf.train.GradientDescentOptimizer(0.5)\n",
    "# 训练的过程就是最小化这个误差值\n",
    "train = optimizer.minimize(loss, name='train')\n",
    "\n",
    "sess = tf.Session()\n",
    "\n",
    "init = tf.global_variables_initializer()\n",
    "sess.run(init)\n",
    "\n",
    "# 初始化的W和b是多少\n",
    "print('W=', sess.run(W), 'b=', sess.run(b), 'loss=', sess.run(loss))\n",
    "# 执行20次训练\n",
    "for step in range(20):\n",
    "    sess.run(train)\n",
    "    # 输出训练好的W和b\n",
    "    print('step ', step + 1)\n",
    "    print('W=', sess.run(W), 'b=', sess.run(b), 'loss=', sess.run(loss))"
   ]
  },
  {
   "cell_type": "code",
   "execution_count": 10,
   "metadata": {
    "ExecuteTime": {
     "end_time": "2019-02-12T09:29:53.554383Z",
     "start_time": "2019-02-12T09:29:53.053355Z"
    }
   },
   "outputs": [
    {
     "data": {
      "image/png": "[encoded data removed]",
      "text/plain": [
       "<Figure size 432x288 with 1 Axes>"
      ]
     },
     "metadata": {},
     "output_type": "display_data"
    }
   ],
   "source": [
    "plt.scatter(x_data, y_data, c='r')\n",
    "plt.plot(x_data,sess.run(W)*x_data+sess.run(b))\n",
    "plt.show()"
   ]
  },
  {
   "cell_type": "code",
   "execution_count": null,
   "metadata": {},
   "outputs": [],
   "source": []
  }
 ],
 "metadata": {
  "kernelspec": {
   "display_name": "Python 3",
   "language": "python",
   "name": "python3"
  },
  "language_info": {
   "codemirror_mode": {
    "name": "ipython",
    "version": 3
   },
   "file_extension": ".py",
   "mimetype": "text/x-python",
   "name": "python",
   "nbconvert_exporter": "python",
   "pygments_lexer": "ipython3",
   "version": "3.6.5"
  },
  "toc": {
   "base_numbering": 1,
   "nav_menu": {},
   "number_sections": true,
   "sideBar": true,
   "skip_h1_title": false,
   "title_cell": "Table of Contents",
   "title_sidebar": "Contents",
   "toc_cell": false,
   "toc_position": {},
   "toc_section_display": true,
   "toc_window_display": false
  },
  "varInspector": {
   "cols": {
    "lenName": 16,
    "lenType": 16,
    "lenVar": 40
   },
   "kernels_config": {
    "python": {
     "delete_cmd_postfix": "",
     "delete_cmd_prefix": "del ",
     "library": "var_list.py",
     "varRefreshCmd": "print(var_dic_list())"
    },
    "r": {
     "delete_cmd_postfix": ") ",
     "delete_cmd_prefix": "rm(",
     "library": "var_list.r",
     "varRefreshCmd": "cat(var_dic_list()) "
    }
   },
   "types_to_exclude": [
    "module",
    "function",
    "builtin_function_or_method",
    "instance",
    "_Feature"
   ],
   "window_display": false
  }
 },
 "nbformat": 4,
 "nbformat_minor": 2
}
