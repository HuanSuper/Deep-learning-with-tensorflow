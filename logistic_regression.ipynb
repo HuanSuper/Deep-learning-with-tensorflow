{
 "cells": [
  {
   "cell_type": "code",
   "execution_count": 1,
   "metadata": {
    "ExecuteTime": {
     "end_time": "2019-02-12T11:25:20.523583Z",
     "start_time": "2019-02-12T11:25:20.503582Z"
    }
   },
   "outputs": [
    {
     "data": {
      "text/plain": [
       "'\\nareated on 12 Feb 2019\\n\\n@author: Super Huan\\n'"
      ]
     },
     "execution_count": 1,
     "metadata": {},
     "output_type": "execute_result"
    }
   ],
   "source": [
    "\"\"\"\n",
    "areated on 12 Feb 2019\n",
    "\n",
    "@author: Super Huan\n",
    "\"\"\"\n",
    "# 深度学习框架Tensorflow"
   ]
  },
  {
   "cell_type": "code",
   "execution_count": 3,
   "metadata": {
    "ExecuteTime": {
     "end_time": "2019-02-12T11:26:25.355291Z",
     "start_time": "2019-02-12T11:26:25.344291Z"
    }
   },
   "outputs": [
    {
     "name": "stdout",
     "output_type": "stream",
     "text": [
      "package loaded\n"
     ]
    }
   ],
   "source": [
    "import numpy as np\n",
    "import tensorflow as tf\n",
    "import matplotlib.pyplot as plt\n",
    "%matplotlib inline\n",
    "from tensorflow.examples.tutorials.mnist import input_data\n",
    "#import input_data\n",
    "\n",
    "print('package loaded')"
   ]
  },
  {
   "cell_type": "code",
   "execution_count": 5,
   "metadata": {
    "ExecuteTime": {
     "end_time": "2019-02-12T11:32:59.772851Z",
     "start_time": "2019-02-12T11:32:58.610784Z"
    },
    "collapsed": true
   },
   "outputs": [
    {
     "name": "stdout",
     "output_type": "stream",
     "text": [
      "Download and Extract MNIST datatset\n",
      "Extracting data\\train-images-idx3-ubyte.gz\n",
      "Extracting data\\train-labels-idx1-ubyte.gz\n",
      "Extracting data\\t10k-images-idx3-ubyte.gz\n",
      "Extracting data\\t10k-labels-idx1-ubyte.gz\n",
      "type of \"mnist\" is <class 'tensorflow.contrib.learn.python.learn.datasets.base.Datasets'>\n",
      "number of training data is 55000\n",
      "number of testing data is 10000\n",
      "What does the data of MNIST look like?\n"
     ]
    }
   ],
   "source": [
    "print('Download and Extract MNIST datatset')\n",
    "mnist = input_data.read_data_sets('data', one_hot=True)\n",
    "print\n",
    "print('type of \"mnist\" is %s' % (type(mnist)))\n",
    "print('number of training data is %d' % (mnist.train.num_examples))\n",
    "print('number of testing data is %d' % (mnist.test.num_examples))\n",
    "# What does the data of MNIST look like?\n",
    "print('What does the data of MNIST look like?')"
   ]
  },
  {
   "cell_type": "code",
   "execution_count": 7,
   "metadata": {
    "ExecuteTime": {
     "end_time": "2019-02-12T11:33:14.972720Z",
     "start_time": "2019-02-12T11:33:14.946719Z"
    }
   },
   "outputs": [
    {
     "name": "stdout",
     "output_type": "stream",
     "text": [
      "type of \"trainimg\" is <class 'numpy.ndarray'>\n",
      "type of \"trainlabel\" is <class 'numpy.ndarray'>\n",
      "type of \"testimg\" is <class 'numpy.ndarray'>\n",
      "type of \"testlabel\" is <class 'numpy.ndarray'>\n",
      "shape of \"trainimg\" is (55000, 784)\n",
      "shape of \"trainlabel\" is (55000, 10)\n",
      "shape of \"testimg\" is (10000, 784)\n",
      "shape of \"testlabel\" is (10000, 10)\n"
     ]
    },
    {
     "data": {
      "text/plain": [
       "array([0., 0., 0., 0., 0., 0., 0., 1., 0., 0.])"
      ]
     },
     "execution_count": 7,
     "metadata": {},
     "output_type": "execute_result"
    }
   ],
   "source": [
    "trainimg = mnist.train.images\n",
    "trainlabel = mnist.train.labels\n",
    "testimg = mnist.test.images\n",
    "testlabel = mnist.test.labels\n",
    "print\n",
    "print('type of \"trainimg\" is %s' % (type(trainimg)))\n",
    "print('type of \"trainlabel\" is %s' % (type(trainlabel)))\n",
    "print('type of \"testimg\" is %s' % (type(testimg)))\n",
    "print('type of \"testlabel\" is %s' % (type(testlabel)))\n",
    "print('shape of \"trainimg\" is %s' % (trainimg.shape,))\n",
    "print('shape of \"trainlabel\" is %s' % (trainlabel.shape,))\n",
    "print('shape of \"testimg\" is %s' % (testimg.shape,))\n",
    "print('shape of \"testlabel\" is %s' % (testlabel.shape,))\n",
    "testlabel[0]"
   ]
  },
  {
   "cell_type": "code",
   "execution_count": 8,
   "metadata": {
    "ExecuteTime": {
     "end_time": "2019-02-12T11:41:53.942403Z",
     "start_time": "2019-02-12T11:41:53.682389Z"
    }
   },
   "outputs": [],
   "source": [
    "x = tf.placeholder('float', [None, 784])\n",
    "y = tf.placeholder('float', [None, 10]) # None represents infinite\n",
    "W = tf.Variable(tf.zeros([784, 10]))\n",
    "b = tf.Variable(tf.zeros([10]))\n",
    "# Logistic regression mdoel\n",
    "actv = tf.nn.softmax(tf.matmul(x, W) + b)\n",
    "# Cost function\n",
    "cost = tf.reduce_mean(-tf.reduce_sum(y*tf.log(actv), reduction_indices=1))\n",
    "# Optimizer\n",
    "lr = 0.01\n",
    "optm = tf.train.GradientDescentOptimizer(learning_rate=lr).minimize(cost)"
   ]
  },
  {
   "cell_type": "code",
   "execution_count": 10,
   "metadata": {
    "ExecuteTime": {
     "end_time": "2019-02-12T11:49:37.564921Z",
     "start_time": "2019-02-12T11:49:37.539920Z"
    }
   },
   "outputs": [],
   "source": [
    "# Prediction\n",
    "pred = tf.equal(tf.argmax(actv, 1), tf.argmax(y, 1))\n",
    "# Accuracy\n",
    "acc = tf.reduce_mean(tf.cast(pred, 'float'))\n",
    "# Initialize\n",
    "init = tf.global_variables_initializer()"
   ]
  },
  {
   "cell_type": "code",
   "execution_count": 15,
   "metadata": {
    "ExecuteTime": {
     "end_time": "2019-02-12T12:08:25.237420Z",
     "start_time": "2019-02-12T12:05:41.949081Z"
    }
   },
   "outputs": [
    {
     "name": "stdout",
     "output_type": "stream",
     "text": [
      "Epoch: 000/050 cost:  1.176810 trian_acc:  0.870000 test_acc:  0.852500\n",
      "Epoch: 005/050 cost:  0.440926 trian_acc:  0.870000 test_acc:  0.894900\n",
      "Epoch: 010/050 cost:  0.383342 trian_acc:  0.890000 test_acc:  0.904300\n",
      "Epoch: 015/050 cost:  0.357289 trian_acc:  0.910000 test_acc:  0.909100\n",
      "Epoch: 020/050 cost:  0.341513 trian_acc:  0.920000 test_acc:  0.912400\n",
      "Epoch: 025/050 cost:  0.330525 trian_acc:  0.910000 test_acc:  0.913800\n",
      "Epoch: 030/050 cost:  0.322382 trian_acc:  0.920000 test_acc:  0.916200\n",
      "Epoch: 035/050 cost:  0.315959 trian_acc:  0.920000 test_acc:  0.917000\n",
      "Epoch: 040/050 cost:  0.310729 trian_acc:  0.910000 test_acc:  0.917700\n",
      "Epoch: 045/050 cost:  0.306369 trian_acc:  0.850000 test_acc:  0.917900\n",
      "Done\n"
     ]
    }
   ],
   "source": [
    "training_epochs = 50\n",
    "batch_size = 100\n",
    "display_step = 5\n",
    "# Session\n",
    "sess = tf.Session()\n",
    "sess.run(init)\n",
    "for epoch in range(training_epochs):\n",
    "    avg_cost = 0\n",
    "    num_batch = int(mnist.train.num_examples/batch_size)\n",
    "    for i in range(num_batch):\n",
    "        batch_xs, batch_ys = mnist.train.next_batch(batch_size)\n",
    "        sess.run(optm, feed_dict={x: batch_xs, y: batch_ys})\n",
    "        feeds = {x: batch_xs, y: batch_ys}\n",
    "        avg_cost += sess.run(cost, feed_dict=feeds)/num_batch\n",
    "    # Display\n",
    "    if epoch % display_step == 0:\n",
    "        feeds_train = {x: batch_xs, y: batch_ys}\n",
    "        feeds_test = {x: mnist.test.images, y: mnist.test.labels}\n",
    "        train_acc = sess.run(acc, feed_dict=feeds_train)\n",
    "        test_acc = sess.run(acc, feed_dict=feeds_test)\n",
    "        print('Epoch: %03d/%03d cost: % 9f trian_acc: % 3f test_acc: % 3f'\n",
    "                % (epoch, training_epochs, avg_cost, train_acc, test_acc))\n",
    "print('Done')"
   ]
  },
  {
   "cell_type": "code",
   "execution_count": null,
   "metadata": {},
   "outputs": [],
   "source": []
  }
 ],
 "metadata": {
  "kernelspec": {
   "display_name": "Python 3",
   "language": "python",
   "name": "python3"
  },
  "language_info": {
   "codemirror_mode": {
    "name": "ipython",
    "version": 3
   },
   "file_extension": ".py",
   "mimetype": "text/x-python",
   "name": "python",
   "nbconvert_exporter": "python",
   "pygments_lexer": "ipython3",
   "version": "3.6.5"
  },
  "toc": {
   "base_numbering": 1,
   "nav_menu": {},
   "number_sections": true,
   "sideBar": true,
   "skip_h1_title": false,
   "title_cell": "Table of Contents",
   "title_sidebar": "Contents",
   "toc_cell": false,
   "toc_position": {},
   "toc_section_display": true,
   "toc_window_display": false
  },
  "varInspector": {
   "cols": {
    "lenName": 16,
    "lenType": 16,
    "lenVar": 40
   },
   "kernels_config": {
    "python": {
     "delete_cmd_postfix": "",
     "delete_cmd_prefix": "del ",
     "library": "var_list.py",
     "varRefreshCmd": "print(var_dic_list())"
    },
    "r": {
     "delete_cmd_postfix": ") ",
     "delete_cmd_prefix": "rm(",
     "library": "var_list.r",
     "varRefreshCmd": "cat(var_dic_list()) "
    }
   },
   "types_to_exclude": [
    "module",
    "function",
    "builtin_function_or_method",
    "instance",
    "_Feature"
   ],
   "window_display": false
  }
 },
 "nbformat": 4,
 "nbformat_minor": 2
}
