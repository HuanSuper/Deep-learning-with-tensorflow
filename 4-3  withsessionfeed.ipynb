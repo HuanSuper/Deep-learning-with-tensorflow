{
 "cells": [
  {
   "cell_type": "code",
   "execution_count": 1,
   "metadata": {
    "ExecuteTime": {
     "end_time": "2019-03-16T04:28:09.681023Z",
     "start_time": "2019-03-16T04:28:09.663022Z"
    }
   },
   "outputs": [
    {
     "data": {
      "text/plain": [
       "'\\ncreated on Mar 16 2019\\n\\n@author: Huan Zheng\\n'"
      ]
     },
     "execution_count": 1,
     "metadata": {},
     "output_type": "execute_result"
    }
   ],
   "source": [
    "\"\"\"\n",
    "created on Mar 16 2019\n",
    "\n",
    "@author: Huan Zheng\n",
    "\"\"\"\n",
    "# 共享变量"
   ]
  },
  {
   "cell_type": "code",
   "execution_count": 5,
   "metadata": {
    "ExecuteTime": {
     "end_time": "2019-03-16T05:50:54.511405Z",
     "start_time": "2019-03-16T05:50:54.303393Z"
    }
   },
   "outputs": [
    {
     "name": "stdout",
     "output_type": "stream",
     "text": [
      "var1: firstvar_3:0\n",
      "var1: firstvar_4:0\n",
      "var2: Variable_2:0\n",
      "var2: Variable_3:0\n",
      "var1 =  2.0\n",
      "var2 =  3.0\n"
     ]
    }
   ],
   "source": [
    "import tensorflow as tf\n",
    "\n",
    "var1 = tf.Variable(1.0, name='firstvar')\n",
    "print(\"var1:\", var1.name)\n",
    "var1 = tf.Variable(2.0, name='firstvar')\n",
    "print(\"var1:\", var1.name)\n",
    "var2 = tf.Variable(2.0)\n",
    "print(\"var2:\", var2.name)\n",
    "var2 = tf.Variable(3.0)\n",
    "print(\"var2:\", var2.name)\n",
    "\n",
    "with tf.Session() as sess:\n",
    "    sess.run(tf.global_variables_initializer())\n",
    "    print('var1 = ', var1.eval())\n",
    "    print('var2 = ', var2.eval())"
   ]
  },
  {
   "cell_type": "code",
   "execution_count": null,
   "metadata": {},
   "outputs": [],
   "source": []
  }
 ],
 "metadata": {
  "kernelspec": {
   "display_name": "Python 3",
   "language": "python",
   "name": "python3"
  },
  "language_info": {
   "codemirror_mode": {
    "name": "ipython",
    "version": 3
   },
   "file_extension": ".py",
   "mimetype": "text/x-python",
   "name": "python",
   "nbconvert_exporter": "python",
   "pygments_lexer": "ipython3",
   "version": "3.6.8"
  },
  "toc": {
   "base_numbering": 1,
   "nav_menu": {},
   "number_sections": true,
   "sideBar": true,
   "skip_h1_title": false,
   "title_cell": "Table of Contents",
   "title_sidebar": "Contents",
   "toc_cell": false,
   "toc_position": {},
   "toc_section_display": true,
   "toc_window_display": false
  },
  "varInspector": {
   "cols": {
    "lenName": 16,
    "lenType": 16,
    "lenVar": 40
   },
   "kernels_config": {
    "python": {
     "delete_cmd_postfix": "",
     "delete_cmd_prefix": "del ",
     "library": "var_list.py",
     "varRefreshCmd": "print(var_dic_list())"
    },
    "r": {
     "delete_cmd_postfix": ") ",
     "delete_cmd_prefix": "rm(",
     "library": "var_list.r",
     "varRefreshCmd": "cat(var_dic_list()) "
    }
   },
   "types_to_exclude": [
    "module",
    "function",
    "builtin_function_or_method",
    "instance",
    "_Feature"
   ],
   "window_display": false
  }
 },
 "nbformat": 4,
 "nbformat_minor": 2
}
